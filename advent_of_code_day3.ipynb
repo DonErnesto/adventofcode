{
  "nbformat": 4,
  "nbformat_minor": 0,
  "metadata": {
    "colab": {
      "provenance": [],
      "authorship_tag": "ABX9TyOEZYWGWm1P2zhPqNNwtKPj",
      "include_colab_link": true
    },
    "kernelspec": {
      "name": "python3",
      "display_name": "Python 3"
    },
    "language_info": {
      "name": "python"
    }
  },
  "cells": [
    {
      "cell_type": "markdown",
      "metadata": {
        "id": "view-in-github",
        "colab_type": "text"
      },
      "source": [
        "<a href=\"https://colab.research.google.com/github/DonErnesto/adventofcode/blob/main/advent_of_code_day3.ipynb\" target=\"_parent\"><img src=\"https://colab.research.google.com/assets/colab-badge.svg\" alt=\"Open In Colab\"/></a>"
      ]
    },
    {
      "cell_type": "code",
      "execution_count": null,
      "metadata": {
        "id": "AX1HtR3K4qpo"
      },
      "outputs": [],
      "source": [
        "import urllib.request\n",
        "\n",
        "import pandas as pd\n",
        "import numpy as np"
      ]
    },
    {
      "cell_type": "code",
      "source": [
        "data_url = r\"https://raw.githubusercontent.com/DonErnesto/adventofcode/main/input_day3_engine.txt\""
      ],
      "metadata": {
        "id": "LkmhT2l35JhM"
      },
      "execution_count": null,
      "outputs": []
    },
    {
      "cell_type": "markdown",
      "source": [],
      "metadata": {
        "id": "KQJPRFBa5TEt"
      }
    },
    {
      "cell_type": "code",
      "source": [
        "with urllib.request.urlopen(data_url) as f:\n",
        "    # data is a list of strings, each string a row\n",
        "    data = f.read().decode('utf-8').split('\\n')"
      ],
      "metadata": {
        "id": "8gmTnDby5Jku"
      },
      "execution_count": null,
      "outputs": []
    },
    {
      "cell_type": "code",
      "source": [
        "data"
      ],
      "metadata": {
        "id": "8poOktJkhF53"
      },
      "execution_count": null,
      "outputs": []
    },
    {
      "cell_type": "code",
      "source": [
        "def convert_data(data):\n",
        "  mapper = {'.': '.',}\n",
        "  list_of_rows = []\n",
        "  for row in data:\n",
        "    if row == '':\n",
        "      pass\n",
        "    else:\n",
        "      list_of_rows.append([mapper.get(el, 'char') if not el.isnumeric() else el for el in row ])\n",
        "  arr = np.array(list_of_rows)\n",
        "  return arr\n",
        "\n",
        "arr = convert_data(data)"
      ],
      "metadata": {
        "id": "b38k_iSz5JnA"
      },
      "execution_count": null,
      "outputs": []
    },
    {
      "cell_type": "code",
      "source": [],
      "metadata": {
        "id": "eQ7EXTa2Ssby"
      },
      "execution_count": null,
      "outputs": []
    },
    {
      "cell_type": "code",
      "source": [
        "def locate_numbers(arr):\n",
        "  \"\"\" returns numbers and idxs\n",
        "  numbers is the list of numbers found\n",
        "  idxs is the list of lists of coordinates. \"\"\"\n",
        "\n",
        "  number_string = ''\n",
        "  idx_list = []\n",
        "  numbers = []\n",
        "  idxs = []\n",
        "\n",
        "  for idx, x in np.ndenumerate(arr):\n",
        "    if x.isnumeric():\n",
        "      number_string += x\n",
        "      idx_list.append(idx)\n",
        "\n",
        "    if (x.isnumeric() and idx[1] == arr.shape[1] - 1) or ((not x.isnumeric()) and number_string):\n",
        "        # line ending in number, or number string just ended\n",
        "        # store results and reset\n",
        "        numbers.append(int(number_string))\n",
        "        idxs.append(idx_list)\n",
        "        number_string = ''\n",
        "        idx_list = []\n",
        "  assert len(numbers) == len(idxs)\n",
        "  return numbers, idxs\n",
        "\n",
        "\n",
        "def test_locate_numbers():\n",
        "  test_arr = np.array([['.', '.', '3'],\n",
        "                      ['1', '2', '']])\n",
        "  expected_output = ([3, 12], [[(0, 2)], [(1,0), (1,1)]])\n",
        "  assert locate_numbers(test_arr) == expected_output\n",
        "\n",
        "test_locate_numbers()\n",
        "\n",
        "numbers, idxs = locate_numbers(arr)"
      ],
      "metadata": {
        "id": "SbHjHDE404kk"
      },
      "execution_count": null,
      "outputs": []
    },
    {
      "cell_type": "code",
      "source": [
        "# Determine whether an idx has an adjacent \"char\" (no number, no dot)\n",
        "def return_neighbors(idx, shape):\n",
        "  \"\"\" for an \"idx\" (which is a coordinate tuple),\n",
        "  return its neighboring idx'es.\n",
        "  This takes into account the size of arr (shape).\n",
        "  (i.e.: returns no idx'es outside of the size of arr)\n",
        "  \"\"\"\n",
        "  neighbor_idx_set = set()\n",
        "  for i in range(-1, 2):\n",
        "    for j in range(-1, 2):\n",
        "      neighbor_idx = tuple([idx[0] + i, idx[1] + j])\n",
        "      if (0 <= neighbor_idx[0] < shape[0]) and (0 <= neighbor_idx[1] < shape[1]):\n",
        "        if not (i, j) == (0, 0):\n",
        "          neighbor_idx_set.add(neighbor_idx)\n",
        "  return neighbor_idx_set\n",
        "\n",
        "def test_return_neighbors():\n",
        "  test_idx = (1, 0)\n",
        "  expected_result = set([(0, 0), (0, 1), (1, 1)])\n",
        "  assert return_neighbors(test_idx, (2, 2)) == expected_result\n",
        "\n",
        "# now test for all numbers\n",
        "def calculate_answer(arr):\n",
        "  sum = 0\n",
        "  numbers, idxs = locate_numbers(arr)\n",
        "  for number, idx_list in zip(numbers, idxs):\n",
        "    number_is_valid = False\n",
        "    while not number_is_valid:\n",
        "      for idx in idx_list:\n",
        "        neighbors_to_check = return_neighbors(idx, arr.shape)\n",
        "        for neighbor_id in neighbors_to_check:\n",
        "          if arr[neighbor_id] == 'char':\n",
        "            number_is_valid = True\n",
        "      break\n",
        "    if number_is_valid:\n",
        "      sum += number\n",
        "  return sum\n",
        "\n",
        "\n",
        "\n",
        "\n"
      ],
      "metadata": {
        "id": "ZygsshlJMltp"
      },
      "execution_count": null,
      "outputs": []
    },
    {
      "cell_type": "code",
      "source": [
        "test_arr_str = \"\"\"467..114..\n",
        "...*......\n",
        "..35..633.\n",
        "......#...\n",
        "617*......\n",
        ".....+.58.\n",
        "..592.....\n",
        "......755.\n",
        "...$.*....\n",
        ".664.598..\"\"\".split('\\n')\n",
        "test_arr = convert_data(test_arr_str)\n"
      ],
      "metadata": {
        "id": "Y65gmtZVPrIx"
      },
      "execution_count": null,
      "outputs": []
    },
    {
      "cell_type": "code",
      "source": [
        "calculate_answer(test_arr)\n",
        "# answer should be 4361"
      ],
      "metadata": {
        "id": "yEqd-AncRNxl"
      },
      "execution_count": null,
      "outputs": []
    },
    {
      "cell_type": "markdown",
      "source": [],
      "metadata": {
        "id": "fnIiWarC7xwS"
      }
    },
    {
      "cell_type": "code",
      "source": [
        "calculate_answer(arr)"
      ],
      "metadata": {
        "id": "tJwgJI0hKz4a"
      },
      "execution_count": null,
      "outputs": []
    },
    {
      "cell_type": "code",
      "source": [],
      "metadata": {
        "id": "UM-WrREXUN2P"
      },
      "execution_count": null,
      "outputs": []
    },
    {
      "cell_type": "code",
      "source": [],
      "metadata": {
        "id": "K5rhe7HVIhFI"
      },
      "execution_count": null,
      "outputs": []
    },
    {
      "cell_type": "code",
      "source": [],
      "metadata": {
        "id": "ULEFvTVy04nB"
      },
      "execution_count": null,
      "outputs": []
    },
    {
      "cell_type": "code",
      "source": [],
      "metadata": {
        "id": "UiYjkgF621BO"
      },
      "execution_count": null,
      "outputs": []
    },
    {
      "cell_type": "code",
      "source": [],
      "metadata": {
        "id": "_Ece7w-z21E_"
      },
      "execution_count": null,
      "outputs": []
    },
    {
      "cell_type": "code",
      "source": [],
      "metadata": {
        "id": "M6IUF7MX21JH"
      },
      "execution_count": null,
      "outputs": []
    },
    {
      "cell_type": "code",
      "source": [],
      "metadata": {
        "id": "9ufi4_4V04pS"
      },
      "execution_count": null,
      "outputs": []
    }
  ]
}