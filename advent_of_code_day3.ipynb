{
  "nbformat": 4,
  "nbformat_minor": 0,
  "metadata": {
    "colab": {
      "provenance": [],
      "authorship_tag": "ABX9TyPuIp42IEXpLIn6Y3bbmF8h",
      "include_colab_link": true
    },
    "kernelspec": {
      "name": "python3",
      "display_name": "Python 3"
    },
    "language_info": {
      "name": "python"
    }
  },
  "cells": [
    {
      "cell_type": "markdown",
      "metadata": {
        "id": "view-in-github",
        "colab_type": "text"
      },
      "source": [
        "<a href=\"https://colab.research.google.com/github/DonErnesto/adventofcode/blob/main/advent_of_code_day3.ipynb\" target=\"_parent\"><img src=\"https://colab.research.google.com/assets/colab-badge.svg\" alt=\"Open In Colab\"/></a>"
      ]
    },
    {
      "cell_type": "code",
      "execution_count": 2,
      "metadata": {
        "id": "AX1HtR3K4qpo"
      },
      "outputs": [],
      "source": [
        "import urllib.request\n",
        "\n",
        "import pandas as pd\n",
        "import numpy as np"
      ]
    },
    {
      "cell_type": "code",
      "source": [
        "data_url = r\"https://raw.githubusercontent.com/DonErnesto/adventofcode/main/input_day3_engine.txt\""
      ],
      "metadata": {
        "id": "LkmhT2l35JhM"
      },
      "execution_count": 3,
      "outputs": []
    },
    {
      "cell_type": "markdown",
      "source": [],
      "metadata": {
        "id": "KQJPRFBa5TEt"
      }
    },
    {
      "cell_type": "code",
      "source": [
        "with urllib.request.urlopen(data_url) as f:\n",
        "    # data is a list of strings, each string a row\n",
        "    data = f.read().decode('utf-8').split('\\n')"
      ],
      "metadata": {
        "id": "8gmTnDby5Jku"
      },
      "execution_count": 4,
      "outputs": []
    },
    {
      "cell_type": "code",
      "source": [
        "data[1]"
      ],
      "metadata": {
        "colab": {
          "base_uri": "https://localhost:8080/",
          "height": 35
        },
        "id": "8poOktJkhF53",
        "outputId": "c48d6577-4461-49f8-dff7-e86d77d644c5"
      },
      "execution_count": 5,
      "outputs": [
        {
          "output_type": "execute_result",
          "data": {
            "text/plain": [
              "'531&......+..........125....-..312..........#........895......998..945.....@......$.....-...33...................353.....*........*.........'"
            ],
            "application/vnd.google.colaboratory.intrinsic+json": {
              "type": "string"
            }
          },
          "metadata": {},
          "execution_count": 5
        }
      ]
    },
    {
      "cell_type": "code",
      "source": [
        "def convert_data(data):\n",
        "  mapper = {'.': '.',}\n",
        "  list_of_rows = []\n",
        "  for row in data:\n",
        "    if row == '':\n",
        "      pass\n",
        "    else:\n",
        "      list_of_rows.append([mapper.get(el, 'char') if not el.isnumeric() else el for el in row ])\n",
        "  arr = np.array(list_of_rows)\n",
        "  return arr\n",
        "\n",
        "arr = convert_data(data)"
      ],
      "metadata": {
        "id": "b38k_iSz5JnA"
      },
      "execution_count": 63,
      "outputs": []
    },
    {
      "cell_type": "code",
      "source": [],
      "metadata": {
        "colab": {
          "base_uri": "https://localhost:8080/"
        },
        "id": "eQ7EXTa2Ssby",
        "outputId": "c71a7564-da55-4f22-df3a-879fbc4935d6"
      },
      "execution_count": 66,
      "outputs": [
        {
          "output_type": "execute_result",
          "data": {
            "text/plain": [
              "(140, 140)"
            ]
          },
          "metadata": {},
          "execution_count": 66
        }
      ]
    },
    {
      "cell_type": "code",
      "source": [
        "# locate numbers\n",
        "\n",
        "def locate_numbers(arr):\n",
        "  \"\"\" returns numbers and idxs\n",
        "  numbers is the list of numbers found\n",
        "  idxs is the list of lists of coordinates\"\"\"\n",
        "\n",
        "  number_string = ''\n",
        "  idx_list = []\n",
        "  numbers = []\n",
        "  idxs = []\n",
        "\n",
        "  for idx, x in np.ndenumerate(arr):\n",
        "    if x.isnumeric():\n",
        "      number_string += x\n",
        "      idx_list.append(idx)\n",
        "\n",
        "    if (x.isnumeric() and idx[1] == arr.shape[1] - 1) or ((not x.isnumeric()) and number_string):\n",
        "        # line ending in number, or number string just ended\n",
        "        # store results and reset\n",
        "        numbers.append(int(number_string))\n",
        "        idxs.append(idx_list)\n",
        "        number_string = ''\n",
        "        idx_list = []\n",
        "  assert len(numbers) == len(idxs)\n",
        "  return numbers, idxs\n",
        "\n",
        "\n",
        "def test_locate_numbers():\n",
        "  test_arr = np.array([['.', '.', '3'],\n",
        "                      ['1', '2', '']\n",
        "                       ])\n",
        "  expected_output = ([3, 12], [[(0, 2)], [(1,0), (1,1)]])\n",
        "  assert locate_numbers(test_arr) == expected_output\n",
        "\n",
        "test_locate_numbers()\n",
        "\n",
        "numbers, idx = locate_numbers(arr)"
      ],
      "metadata": {
        "id": "SbHjHDE404kk"
      },
      "execution_count": 68,
      "outputs": []
    },
    {
      "cell_type": "code",
      "source": [],
      "metadata": {
        "colab": {
          "base_uri": "https://localhost:8080/"
        },
        "id": "ZygsshlJMltp",
        "outputId": "2f6271e9-fbf7-4d91-a579-3ee68aee409e"
      },
      "execution_count": 71,
      "outputs": [
        {
          "output_type": "execute_result",
          "data": {
            "text/plain": [
              "1227"
            ]
          },
          "metadata": {},
          "execution_count": 71
        }
      ]
    },
    {
      "cell_type": "code",
      "source": [],
      "metadata": {
        "id": "tJwgJI0hKz4a"
      },
      "execution_count": 60,
      "outputs": []
    },
    {
      "cell_type": "code",
      "source": [],
      "metadata": {
        "id": "UM-WrREXUN2P"
      },
      "execution_count": null,
      "outputs": []
    },
    {
      "cell_type": "code",
      "source": [],
      "metadata": {
        "id": "K5rhe7HVIhFI"
      },
      "execution_count": 60,
      "outputs": []
    },
    {
      "cell_type": "code",
      "source": [],
      "metadata": {
        "id": "ULEFvTVy04nB"
      },
      "execution_count": 60,
      "outputs": []
    },
    {
      "cell_type": "code",
      "source": [],
      "metadata": {
        "id": "UiYjkgF621BO"
      },
      "execution_count": null,
      "outputs": []
    },
    {
      "cell_type": "code",
      "source": [],
      "metadata": {
        "id": "_Ece7w-z21E_"
      },
      "execution_count": null,
      "outputs": []
    },
    {
      "cell_type": "code",
      "source": [],
      "metadata": {
        "id": "M6IUF7MX21JH"
      },
      "execution_count": null,
      "outputs": []
    },
    {
      "cell_type": "code",
      "source": [],
      "metadata": {
        "id": "9ufi4_4V04pS"
      },
      "execution_count": null,
      "outputs": []
    }
  ]
}