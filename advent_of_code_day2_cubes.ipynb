{
 "cells": [
  {
   "cell_type": "markdown",
   "id": "7951eb68-41b9-47ac-afdb-4d92ef0b2cfa",
   "metadata": {},
   "source": [
    "For example, the record of a few games might look like this:\n",
    "\n",
    "Game 1: 3 blue, 4 red; 1 red, 2 green, 6 blue; 2 green\n",
    "Game 2: 1 blue, 2 green; 3 green, 4 blue, 1 red; 1 green, 1 blue\n",
    "Game 3: 8 green, 6 blue, 20 red; 5 blue, 4 red, 13 green; 5 green, 1 red\n",
    "Game 4: 1 green, 3 red, 6 blue; 3 green, 6 red; 3 green, 15 blue, 14 red\n",
    "Game 5: 6 red, 1 blue, 3 green; 2 blue, 1 red, 2 green\n",
    "In game 1, three sets of cubes are revealed from the bag (and then put back again). The first set is 3 blue cubes and 4 red cubes; the second set is 1 red cube, 2 green cubes, and 6 blue cubes; the third set is only 2 green cubes.\n",
    "\n",
    "The Elf would first like to know which games would have been possible if the bag contained only 12 red cubes, 13 green cubes, and 14 blue cubes?\n",
    "\n",
    "\n",
    "\n",
    "In the example above, games 1, 2, and 5 would have been possible if the bag had been loaded with that configuration. However, game 3 would have been impossible because at one point the Elf showed you 20 red cubes at once; similarly, game 4 would also have been impossible because the Elf showed you 15 blue cubes at once. If you add up the IDs of the games that would have been possible, \n",
    "Determine which games would have been possible if the bag had been loaded with only 12 red cubes, 13 green cubes, and 14 blue cubes. What is the sum of the IDs of those games?"
   ]
  },
  {
   "cell_type": "markdown",
   "id": "a5adb3d2-e073-4591-b808-4b94cd25fc3a",
   "metadata": {},
   "source": [
    "Note: we have a separation by semicolon and by comma. \n",
    "The assumption we make is that it really doesn't matter: each draw, cubes are listed per color. \n",
    "If, and only if, at a single position the number exceeds what is present, it is impossible. \n",
    "**So we can treat semicolons the same as commas!**\n"
   ]
  },
  {
   "cell_type": "code",
   "execution_count": 1,
   "id": "8268bec7-b106-48a8-a8d4-3948571bf048",
   "metadata": {},
   "outputs": [],
   "source": [
    "import pandas as pd\n",
    "import requests\n",
    "import numpy as np\n",
    "import urllib.request"
   ]
  },
  {
   "cell_type": "code",
   "execution_count": 2,
   "id": "a9b9a1cd-26a5-4980-bb43-6178eddd3850",
   "metadata": {},
   "outputs": [],
   "source": [
    "data_url = r\"https://raw.githubusercontent.com/DonErnesto/adventofcode/main/input_day2_cubes.txt\"\n",
    "with urllib.request.urlopen(data_url) as f:\n",
    "    # data is a list of strings, each string a row\n",
    "    data = f.read().decode('utf-8').split('\\n')"
   ]
  },
  {
   "cell_type": "code",
   "execution_count": 3,
   "id": "1726b175-d256-4bc3-960d-b154ff53432f",
   "metadata": {},
   "outputs": [],
   "source": [
    "cube_dict = {'red':12, 'green':13, 'blue':14} #actual number of cubes in bag"
   ]
  },
  {
   "cell_type": "code",
   "execution_count": 4,
   "id": "55de4dee-65f8-4a45-9bef-38a5fca61952",
   "metadata": {},
   "outputs": [],
   "source": [
    "# attack as follows: \n",
    "# 1: create dictionaries\n",
    "# each game gets a dictionary with the max observed counts,\n",
    "# and an ID \n",
    "\n",
    "# 2: loop over dicts\n",
    "# each dict that has a possible combination of maxes is accepted, ID added to a total\n",
    "test_data = ['Game 1: 10 green, 9 blue, 1 red; 1 red, 7 green; 11 green, 6 blue; 8 blue, 12 green',\n",
    " 'Game 2: 11 red, 7 green, 3 blue; 1 blue, 8 green, 5 red; 2 red, 12 green, 1 blue; 10 green, 5 blue, 7 red']"
   ]
  },
  {
   "cell_type": "code",
   "execution_count": 5,
   "id": "17f6bcb1-0e3f-4092-bedb-d94dcead8ba4",
   "metadata": {},
   "outputs": [],
   "source": [
    "# step 1: make a dict from a line\n",
    "def make_observed_max_dict(line):\n",
    "    max_dict = dict()\n",
    "    line = line.replace(';', ',') # treating semicolons as commas\n",
    "    entries = line.split(',')\n",
    "    id_str = entries.pop(0)\n",
    "    entries += [id_str.split(':')[1]]\n",
    "    id = int(id_str.split(' ')[1].rstrip(':'))\n",
    "    max_dict['ID'] = id\n",
    "    for entry in entries:\n",
    "        #  construct the dict with color:count\n",
    "        count_color = entry.strip().split(' ')\n",
    "        color = count_color[-1]\n",
    "        count = int(count_color[0])\n",
    "        # replace count if count does not exist or is lower\n",
    "        if max_dict.get(color, 0) < count:\n",
    "            max_dict[color] = count\n",
    "    return max_dict\n",
    "    \n",
    "# step 2: check that the results are possible of a single dict\n",
    "def check_cube_count_possible(cubes_dict, observed_maxdict):\n",
    "    is_possible = True\n",
    "    for color, max_count in observed_maxdict.items():\n",
    "        if color == 'ID':\n",
    "            continue\n",
    "        if max_count > cubes_dict[color]:\n",
    "            is_possible = False\n",
    "    return is_possible    \n",
    "    \n",
    "    "
   ]
  },
  {
   "cell_type": "code",
   "execution_count": 6,
   "id": "97adfc25-4977-4135-b040-d2682756c0a0",
   "metadata": {},
   "outputs": [],
   "source": [
    "def test_make_max_dict():\n",
    "    test_line = 'Game 1: 10 green, 9 blue, 1 red; 1 red, 7 green; 11 green, 6 blue; 8 blue, 12 green'\n",
    "    expected_output = {'ID': 1, 'green':12, 'blue':9, 'red':1}\n",
    "    assert make_observed_max_dict(test_line) == expected_output"
   ]
  },
  {
   "cell_type": "code",
   "execution_count": 7,
   "id": "32dcf472-e347-4ffd-bd9f-0599a596d693",
   "metadata": {},
   "outputs": [],
   "source": [
    "test_make_max_dict()"
   ]
  },
  {
   "cell_type": "code",
   "execution_count": 8,
   "id": "b5cf7e29-caf3-4fcb-a120-0011dc6b1dd0",
   "metadata": {},
   "outputs": [],
   "source": [
    "def test_check_cube_count_possible():\n",
    "    cubes_dict = {'green':10, 'blue':10, 'red':10}\n",
    "    impossible_dict = {'ID': 1, 'green':12, 'blue':9, 'red':1}\n",
    "    possible_dict = {'ID': 2, 'green':3, 'blue':10}\n",
    "    assert not check_cube_count_possible(cubes_dict, impossible_dict)\n",
    "    assert check_cube_count_possible(cubes_dict, possible_dict)\n",
    "\n",
    "test_check_cube_count_possible()       "
   ]
  },
  {
   "cell_type": "code",
   "execution_count": 9,
   "id": "87a7b805-a57f-4c8d-b0ce-367534f593f4",
   "metadata": {},
   "outputs": [],
   "source": [
    "# Run the checker on all\n",
    "def solve_game(cube_dict, data):\n",
    "    total = 0\n",
    "    for line in data:\n",
    "        max_dict = make_observed_max_dict(line)\n",
    "        id = max_dict['ID']\n",
    "        possible = check_cube_count_possible(cube_dict, max_dict)\n",
    "        if possible:\n",
    "            total += id\n",
    "        else:\n",
    "            pass\n",
    "    return total\n",
    "    \n",
    "    "
   ]
  },
  {
   "cell_type": "code",
   "execution_count": 10,
   "id": "6ec26fdb-663c-405b-bd2b-c591426955a9",
   "metadata": {},
   "outputs": [],
   "source": [
    "test_data = ['Game 1: 3 blue, 4 red; 1 red, 2 green, 6 blue; 2 green',\n",
    "'Game 2: 1 blue, 2 green; 3 green, 4 blue, 1 red; 1 green, 1 blue',\n",
    "'Game 3: 8 green, 6 blue, 20 red; 5 blue, 4 red, 13 green; 5 green, 1 red',\n",
    "'Game 4: 1 green, 3 red, 6 blue; 3 green, 6 red; 3 green, 15 blue, 14 red',\n",
    "'Game 5: 6 red, 1 blue, 3 green; 2 blue, 1 red, 2 green']"
   ]
  },
  {
   "cell_type": "code",
   "execution_count": 11,
   "id": "01641b12-a945-4377-ae82-46520c5c9c69",
   "metadata": {},
   "outputs": [],
   "source": [
    "assert solve_game(cube_dict, test_data) == 8"
   ]
  },
  {
   "cell_type": "code",
   "execution_count": 12,
   "id": "c4374c6a-9615-4b01-bb29-412df0ae95c3",
   "metadata": {},
   "outputs": [
    {
     "data": {
      "text/plain": [
       "2239"
      ]
     },
     "execution_count": 12,
     "metadata": {},
     "output_type": "execute_result"
    }
   ],
   "source": [
    "solve_game(cube_dict, data)"
   ]
  },
  {
   "cell_type": "code",
   "execution_count": null,
   "id": "1d6c6343-1957-4e49-9fcb-44cbdda151a6",
   "metadata": {},
   "outputs": [],
   "source": []
  },
  {
   "cell_type": "code",
   "execution_count": null,
   "id": "1e6432d4-1ab2-46d6-8b14-82f005f1e3ff",
   "metadata": {},
   "outputs": [],
   "source": []
  }
 ],
 "metadata": {
  "kernelspec": {
   "display_name": "Python 3 (ipykernel)",
   "language": "python",
   "name": "python3"
  },
  "language_info": {
   "codemirror_mode": {
    "name": "ipython",
    "version": 3
   },
   "file_extension": ".py",
   "mimetype": "text/x-python",
   "name": "python",
   "nbconvert_exporter": "python",
   "pygments_lexer": "ipython3",
   "version": "3.8.10"
  }
 },
 "nbformat": 4,
 "nbformat_minor": 5
}
