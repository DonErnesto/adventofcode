{
  "nbformat": 4,
  "nbformat_minor": 0,
  "metadata": {
    "colab": {
      "provenance": [],
      "authorship_tag": "ABX9TyMInIWoZfXxnvmtzlFx2Ieb",
      "include_colab_link": true
    },
    "kernelspec": {
      "name": "python3",
      "display_name": "Python 3"
    },
    "language_info": {
      "name": "python"
    }
  },
  "cells": [
    {
      "cell_type": "markdown",
      "metadata": {
        "id": "view-in-github",
        "colab_type": "text"
      },
      "source": [
        "<a href=\"https://colab.research.google.com/github/DonErnesto/adventofcode/blob/main/advent_of_code_day13_mirrors.ipynb\" target=\"_parent\"><img src=\"https://colab.research.google.com/assets/colab-badge.svg\" alt=\"Open In Colab\"/></a>"
      ]
    },
    {
      "cell_type": "code",
      "execution_count": 1,
      "metadata": {
        "id": "ajtUUHypUXIe"
      },
      "outputs": [],
      "source": [
        "import pandas as pd\n",
        "import requests\n",
        "import numpy as np"
      ]
    },
    {
      "cell_type": "markdown",
      "source": [
        "Get data from the repository"
      ],
      "metadata": {
        "id": "juIvvruFJTxC"
      }
    },
    {
      "cell_type": "code",
      "source": [
        "data_url = r\"https://raw.githubusercontent.com/DonErnesto/adventofcode/main/input_mirrors.txt\""
      ],
      "metadata": {
        "id": "56NVm8eFY0Wv"
      },
      "execution_count": 2,
      "outputs": []
    },
    {
      "cell_type": "code",
      "source": [
        "import urllib.request\n",
        "with urllib.request.urlopen(data_url) as f:\n",
        "    # data is a list of strings, each string a row\n",
        "    data = f.read().decode('utf-8').split('\\n')"
      ],
      "metadata": {
        "id": "3ACfpPVuCv6y"
      },
      "execution_count": 3,
      "outputs": []
    },
    {
      "cell_type": "markdown",
      "source": [
        "convert data to a list of 2-D np arrays. Each array is a field to solve"
      ],
      "metadata": {
        "id": "QljosW8yJYkb"
      }
    },
    {
      "cell_type": "code",
      "source": [
        "def convert_data(data):\n",
        "  mapper = {'.':0, '#':1}\n",
        "  list_of_rows = []\n",
        "  list_of_arrays = [] # this will contain the final numpy arrays\n",
        "  for row in data:\n",
        "    if row == '':\n",
        "      list_of_arrays.append(np.array(list_of_rows))\n",
        "      list_of_rows = []\n",
        "    else:\n",
        "      list_of_rows.append([mapper.get(el) for el in row])\n",
        "  return list_of_arrays\n",
        "\n",
        "list_of_arrays = convert_data(data)"
      ],
      "metadata": {
        "id": "--53CY-4Dq4k"
      },
      "execution_count": 4,
      "outputs": []
    },
    {
      "cell_type": "markdown",
      "source": [
        "mirror finding algorithm\n",
        "\n"
      ],
      "metadata": {
        "id": "iRxn7iCrJ93p"
      }
    },
    {
      "cell_type": "code",
      "source": [
        "def generate_comparison_indices(index, length):\n",
        "  lower_index_list = np.arange(index-1, -1, -1)\n",
        "  upper_index_list = np.arange(index, length)\n",
        "  return list(zip(lower_index_list, upper_index_list))\n",
        "assert generate_comparison_indices(4, 5) == [(3, 4)] # boundaries are tricky."
      ],
      "metadata": {
        "id": "_xFBp8Oucdzk"
      },
      "execution_count": 5,
      "outputs": []
    },
    {
      "cell_type": "code",
      "source": [
        "def search_mirror_plane(field, axis=0):\n",
        "  for potential_mirror_plane in range(1, field.shape[axis]):\n",
        "    is_mirror_plane = True\n",
        "    # note that the location of a mirror plane is defined by the number of rows above it\n",
        "    while is_mirror_plane:\n",
        "      for upper_index, lower_index in generate_comparison_indices(potential_mirror_plane, field.shape[axis]):\n",
        "        if axis == 0:\n",
        "          test_equality = all(field[upper_index, :] == field[lower_index, :])\n",
        "        else:\n",
        "          test_equality = all(field[:, upper_index] == field[:, lower_index])\n",
        "        if not test_equality:\n",
        "          is_mirror_plane = False\n",
        "      if is_mirror_plane:\n",
        "        mirror_plane = potential_mirror_plane\n",
        "        return mirror_plane\n",
        "  return 0 # meaning: no mirror plane found\n",
        ""
      ],
      "metadata": {
        "id": "uuuoKzwNKCXC"
      },
      "execution_count": 6,
      "outputs": []
    },
    {
      "cell_type": "code",
      "source": [
        "# define some tests\n",
        "def test_row_middle():\n",
        "  test_field = np.array([[0, 1, 0, 2], [1, 0, 0, 1], [1, 0, 0, 1], [0, 1, 0, 2]])\n",
        "  assert search_mirror_plane(test_field, axis=0) == 2\n",
        "  assert search_mirror_plane(test_field, axis=1) == 0\n",
        "\n",
        "def test_col_end():\n",
        "  # \"edge\" case\n",
        "  test_field = np.array([[0, 1, 0, 1, 1]])\n",
        "  assert search_mirror_plane(test_field, axis=1) == 4\n",
        "\n",
        "def test_col():\n",
        "  test_field = np.array([[0, 1, 1, 0], [1, 1, 1, 1], [1, 0, 0, 1]])\n",
        "  assert search_mirror_plane(test_field, axis=0) == 0\n",
        "  assert search_mirror_plane(test_field, axis=1) == 2\n",
        "\n",
        "\n",
        "test_row_middle()\n",
        "test_col_end()\n",
        "test_col()"
      ],
      "metadata": {
        "id": "inzvohiKTiD4"
      },
      "execution_count": 7,
      "outputs": []
    },
    {
      "cell_type": "code",
      "source": [
        "# Function that runs on all fields and gives the solution\n",
        "\n",
        "def solve_puzzle(list_of_arrays):\n",
        "  total_result = 0\n",
        "  for field in list_of_arrays:\n",
        "    row_result = 100 * search_mirror_plane(field, axis=0)\n",
        "    column_result = search_mirror_plane(field, axis=1)\n",
        "    total_result += row_result + column_result\n",
        "  return total_result"
      ],
      "metadata": {
        "id": "G4bojgKcTqdg"
      },
      "execution_count": 8,
      "outputs": []
    },
    {
      "cell_type": "code",
      "source": [],
      "metadata": {
        "id": "N0ZIxNOef9RR"
      },
      "execution_count": 8,
      "outputs": []
    },
    {
      "cell_type": "markdown",
      "source": [
        "Final test: on the website example"
      ],
      "metadata": {
        "id": "Twcmf1degAkH"
      }
    },
    {
      "cell_type": "code",
      "source": [
        "test_data = \"\"\"#.##..##.\n",
        "..#.##.#.\n",
        "##......#\n",
        "##......#\n",
        "..#.##.#.\n",
        "..##..##.\n",
        "#.#.##.#.\n",
        "\n",
        "#...##..#\n",
        "#....#..#\n",
        "..##..###\n",
        "#####.##.\n",
        "#####.##.\n",
        "..##..###\n",
        "#....#..#\n",
        "\"\"\"\n",
        "test_list_of_arrays = convert_data(test_data.split('\\n'))\n",
        "\n",
        "assert solve_puzzle(test_list_of_arrays) == 405  # example from website"
      ],
      "metadata": {
        "id": "NWMwkqfIUE5X"
      },
      "execution_count": 9,
      "outputs": []
    },
    {
      "cell_type": "code",
      "source": [
        "# generate the final result\n",
        "solve_puzzle(list_of_arrays)"
      ],
      "metadata": {
        "colab": {
          "base_uri": "https://localhost:8080/"
        },
        "id": "AFTBFLNkXmUA",
        "outputId": "e8ff3a48-1b7d-4e23-c317-1941454b1562"
      },
      "execution_count": 10,
      "outputs": [
        {
          "output_type": "execute_result",
          "data": {
            "text/plain": [
              "30535"
            ]
          },
          "metadata": {},
          "execution_count": 10
        }
      ]
    },
    {
      "cell_type": "markdown",
      "source": [
        "That's the right solution!"
      ],
      "metadata": {
        "id": "LyVnSsUXgcSi"
      }
    },
    {
      "cell_type": "code",
      "source": [],
      "metadata": {
        "id": "jxHHFrG6bKQy"
      },
      "execution_count": 10,
      "outputs": []
    }
  ]
}