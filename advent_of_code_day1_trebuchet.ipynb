{
 "cells": [
  {
   "cell_type": "code",
   "execution_count": 9,
   "id": "64806de4-e938-419f-a627-380aaea280bf",
   "metadata": {},
   "outputs": [],
   "source": [
    "import pandas as pd\n",
    "import requests\n",
    "import numpy as np\n",
    "import urllib.request\n"
   ]
  },
  {
   "cell_type": "code",
   "execution_count": 7,
   "id": "8a6c96d6-ec73-4c1f-b5b5-bea4010fdd03",
   "metadata": {},
   "outputs": [],
   "source": [
    "data_url = r\"https://raw.githubusercontent.com/DonErnesto/adventofcode/main/input_day2_games.txt\"\n",
    "with urllib.request.urlopen(data_url) as f:\n",
    "    # data is a list of strings, each string a row\n",
    "    data = f.read().decode('utf-8').split('\\n')"
   ]
  },
  {
   "cell_type": "code",
   "execution_count": 26,
   "id": "40390a36-9842-4233-9b19-db31c03abb9d",
   "metadata": {},
   "outputs": [],
   "source": [
    "def sum_first_and_last_numbers(data):\n",
    "    total = 0\n",
    "    for line in data:\n",
    "        nums = [d for d in line if d.isnumeric()]\n",
    "        left = nums[0]\n",
    "        right = nums[-1]\n",
    "        total += int(left + right)\n",
    "    return total\n",
    "    "
   ]
  },
  {
   "cell_type": "code",
   "execution_count": 29,
   "id": "3327a29b-86cd-42b7-91aa-6b61ea29e65f",
   "metadata": {},
   "outputs": [],
   "source": [
    "def test_sum_first_last():\n",
    "    # test using example given on the website\n",
    "    test_data = [\n",
    "    \"1abc2\",\n",
    "    \"pqr3stu8vwx\",\n",
    "    \"a1b2c3d4e5f\",\n",
    "    \"treb7uchet\"]\n",
    "    assert sum_first_and_last_numbers(test_data) == 142"
   ]
  },
  {
   "cell_type": "code",
   "execution_count": 33,
   "id": "860bb179-e757-4db0-8fba-cbcfc7398ab0",
   "metadata": {},
   "outputs": [
    {
     "name": "stdout",
     "output_type": "stream",
     "text": [
      "53974\n"
     ]
    }
   ],
   "source": [
    "test_sum_first_last()\n",
    "print(sum_first_and_last_numbers(data))"
   ]
  },
  {
   "cell_type": "code",
   "execution_count": null,
   "id": "8cf4ebb8-4c66-4992-8955-b9ccfd7b3c5b",
   "metadata": {},
   "outputs": [],
   "source": [
    "# correct"
   ]
  },
  {
   "cell_type": "code",
   "execution_count": null,
   "id": "ac932b4f-3b44-4f15-a4e2-40f161cbada8",
   "metadata": {},
   "outputs": [],
   "source": []
  },
  {
   "cell_type": "code",
   "execution_count": null,
   "id": "c310d65c-81ed-455b-8328-47b82a28e16f",
   "metadata": {},
   "outputs": [],
   "source": []
  }
 ],
 "metadata": {
  "kernelspec": {
   "display_name": "Python 3 (ipykernel)",
   "language": "python",
   "name": "python3"
  },
  "language_info": {
   "codemirror_mode": {
    "name": "ipython",
    "version": 3
   },
   "file_extension": ".py",
   "mimetype": "text/x-python",
   "name": "python",
   "nbconvert_exporter": "python",
   "pygments_lexer": "ipython3",
   "version": "3.8.10"
  }
 },
 "nbformat": 4,
 "nbformat_minor": 5
}
